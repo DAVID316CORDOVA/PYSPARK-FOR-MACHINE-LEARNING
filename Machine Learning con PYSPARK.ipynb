{
 "cells": [
  {
   "cell_type": "code",
   "execution_count": 28,
   "id": "d0d5e023",
   "metadata": {},
   "outputs": [],
   "source": [
    "###IMPORTING THE LIBRARIES\n",
    "from pyspark.ml.regression import GBTRegressor\n",
    "from pyspark.sql import SparkSession\n",
    "from pyspark.sql.functions import col,sum,avg,round,monotonically_increasing_id,lit,filter\n",
    "from pyspark.ml.feature import StringIndexer, OneHotEncoder, VectorAssembler\n",
    "from pyspark.ml import Pipeline\n",
    "from pyspark.ml.evaluation import RegressionEvaluator\n",
    "#CREATING THE SESSION\n",
    "sesion=SparkSession.builder.appName(\"sesion\").getOrCreate()"
   ]
  },
  {
   "cell_type": "code",
   "execution_count": 2,
   "id": "ca4756aa",
   "metadata": {},
   "outputs": [
    {
     "name": "stdout",
     "output_type": "stream",
     "text": [
      "+----+------------+---------+-----------+------+------------+------------+-----+---------+-----------+-----------+-----+\n",
      "|year|manufacturer|condition|cylinders  |fuel  |title_status|transmission|drive|size     |type       |paint_color|price|\n",
      "+----+------------+---------+-----------+------+------------+------------+-----+---------+-----------+-----------+-----+\n",
      "|2009|chevrolet   |good     |8 cylinders|gas   |clean       |automatic   |rwd  |full-size|SUV        |white      |9000 |\n",
      "|2002|gmc         |good     |8 cylinders|gas   |clean       |automatic   |4wd  |NULL     |pickup     |white      |6000 |\n",
      "|2007|pontiac     |excellent|4 cylinders|gas   |clean       |automatic   |fwd  |compact  |convertible|red        |7000 |\n",
      "|2012|chevrolet   |excellent|8 cylinders|diesel|clean       |automatic   |4wd  |full-size|pickup     |silver     |37000|\n",
      "|2003|NULL        |fair     |8 cylinders|gas   |clean       |automatic   |4wd  |NULL     |pickup     |silver     |3700 |\n",
      "+----+------------+---------+-----------+------+------------+------------+-----+---------+-----------+-----------+-----+\n",
      "only showing top 5 rows\n",
      "\n"
     ]
    }
   ],
   "source": [
    "df=sesion.read.csv(\"cars_spark.csv\",header=True,sep=\",\")\n",
    "df.show(5,truncate=False)"
   ]
  },
  {
   "cell_type": "code",
   "execution_count": 3,
   "id": "be2511dc",
   "metadata": {},
   "outputs": [
    {
     "name": "stdout",
     "output_type": "stream",
     "text": [
      "rows: 434542 | columns: 12\n"
     ]
    }
   ],
   "source": [
    "#FINDING THE SHAPE OF THE DATA\n",
    "rows=df.count()\n",
    "columns=len(df.columns)\n",
    "print(f\"rows: {rows} | columns: {columns}\")"
   ]
  },
  {
   "cell_type": "code",
   "execution_count": 4,
   "id": "70a85182",
   "metadata": {},
   "outputs": [
    {
     "name": "stdout",
     "output_type": "stream",
     "text": [
      "root\n",
      " |-- year: string (nullable = true)\n",
      " |-- manufacturer: string (nullable = true)\n",
      " |-- condition: string (nullable = true)\n",
      " |-- cylinders: string (nullable = true)\n",
      " |-- fuel: string (nullable = true)\n",
      " |-- title_status: string (nullable = true)\n",
      " |-- transmission: string (nullable = true)\n",
      " |-- drive: string (nullable = true)\n",
      " |-- size: string (nullable = true)\n",
      " |-- type: string (nullable = true)\n",
      " |-- paint_color: string (nullable = true)\n",
      " |-- price: string (nullable = true)\n",
      "\n"
     ]
    }
   ],
   "source": [
    "#ANALYZING THE DATA\n",
    "df.printSchema()"
   ]
  },
  {
   "cell_type": "code",
   "execution_count": 5,
   "id": "dbf8d04a",
   "metadata": {},
   "outputs": [
    {
     "name": "stdout",
     "output_type": "stream",
     "text": [
      "+------------+---------------+\n",
      "|      Column|Null_Percentage|\n",
      "+------------+---------------+\n",
      "|        size|           58.1|\n",
      "|   condition|           36.9|\n",
      "|   cylinders|           28.3|\n",
      "| paint_color|           19.7|\n",
      "|       drive|           13.3|\n",
      "|        type|           11.6|\n",
      "|manufacturer|            3.6|\n",
      "|transmission|            1.0|\n",
      "|        fuel|            0.8|\n",
      "|title_status|            0.7|\n",
      "|        year|            0.0|\n",
      "|       price|            0.0|\n",
      "+------------+---------------+\n",
      "\n"
     ]
    }
   ],
   "source": [
    "##FINDING THE % OF NULL VALUES\n",
    "from pyspark.sql import functions as F\n",
    "\n",
    "# Calcular el número total de filas\n",
    "total_rows = df.count()\n",
    "\n",
    "# Crear una lista de expresiones para calcular el porcentaje de valores nulos\n",
    "null_percentage_expr = [\n",
    "    round((F.sum(F.col(c).isNull().cast(\"int\")) / total_rows * 100), 1).alias(c) \n",
    "    for c in df.columns\n",
    "]\n",
    "\n",
    "# Aplicar las expresiones y obtener los porcentajes de valores nulos\n",
    "null_percentages_df = df.agg(*null_percentage_expr)\n",
    "\n",
    "# Convertir el DataFrame en formato de dos columnas (Columna, Porcentaje de Nulos)\n",
    "null_percentages = null_percentages_df.select(F.explode(F.array([\n",
    "    F.struct(F.lit(c).alias(\"Column\"), F.col(c).alias(\"Null_Percentage\")) \n",
    "    for c in df.columns\n",
    "]))).select(\"col.*\")\n",
    "\n",
    "# Ordenar el resultado en orden descendente por el porcentaje de valores nulos\n",
    "null_percentages.orderBy(F.col(\"Null_Percentage\").desc()).show()\n"
   ]
  },
  {
   "cell_type": "code",
   "execution_count": 6,
   "id": "c7e84cba",
   "metadata": {},
   "outputs": [
    {
     "name": "stdout",
     "output_type": "stream",
     "text": [
      "+----+------------+---------+-----------+------+------------+------------+-----+---------+-----------+-----------+-----+\n",
      "|year|manufacturer|condition|cylinders  |fuel  |title_status|transmission|drive|size     |type       |paint_color|price|\n",
      "+----+------------+---------+-----------+------+------------+------------+-----+---------+-----------+-----------+-----+\n",
      "|2009|chevrolet   |good     |8 cylinders|gas   |clean       |automatic   |rwd  |full-size|SUV        |white      |9000 |\n",
      "|2007|pontiac     |excellent|4 cylinders|gas   |clean       |automatic   |fwd  |compact  |convertible|red        |7000 |\n",
      "|2012|chevrolet   |excellent|8 cylinders|diesel|clean       |automatic   |4wd  |full-size|pickup     |silver     |37000|\n",
      "|2004|toyota      |good     |4 cylinders|gas   |clean       |automatic   |fwd  |mid-size |sedan      |brown      |3795 |\n",
      "|2010|cadillac    |good     |8 cylinders|gas   |clean       |automatic   |fwd  |mid-size |SUV        |white      |9700 |\n",
      "+----+------------+---------+-----------+------+------------+------------+-----+---------+-----------+-----------+-----+\n",
      "only showing top 5 rows\n",
      "\n"
     ]
    }
   ],
   "source": [
    "# Dropping all the rows with the word \"Other\" in order to try to not confuse the machine learning model\n",
    "\n",
    "filtered_df = df.filter(~(\n",
    "    (F.col(\"manufacturer\") == \"other\") | \n",
    "    (F.col(\"condition\") == \"other\") | \n",
    "    (F.col(\"cylinders\") == \"other\") | \n",
    "    (F.col(\"fuel\") == \"other\") | \n",
    "    (F.col(\"title_status\") == \"other\") | \n",
    "    (F.col(\"transmission\") == \"other\") | \n",
    "    (F.col(\"drive\") == \"other\") | \n",
    "    (F.col(\"size\") == \"other\") | \n",
    "    (F.col(\"type\") == \"other\") | \n",
    "    (F.col(\"paint_color\") == \"other\")\n",
    "))\n",
    "\n",
    "# Asignar el DataFrame filtrado al original si deseas sobrescribirlo\n",
    "df = filtered_df\n",
    "df.show(5,truncate=False)"
   ]
  },
  {
   "cell_type": "code",
   "execution_count": 7,
   "id": "d72ebefe",
   "metadata": {},
   "outputs": [
    {
     "name": "stdout",
     "output_type": "stream",
     "text": [
      "rows: 128235 | columns: 12\n"
     ]
    }
   ],
   "source": [
    "#FINDING THE NEW SHAPE OF THE DATA\n",
    "rows=df.count()\n",
    "columns=len(df.columns)\n",
    "print(f\"rows: {rows} | columns: {columns}\")"
   ]
  },
  {
   "cell_type": "code",
   "execution_count": 8,
   "id": "5c2ecced",
   "metadata": {},
   "outputs": [
    {
     "name": "stdout",
     "output_type": "stream",
     "text": [
      "The feature year contains 100 distinct values\n",
      "The feature manufacturer contains 39 distinct values\n",
      "The feature condition contains 6 distinct values\n",
      "The feature cylinders contains 7 distinct values\n",
      "The feature fuel contains 4 distinct values\n",
      "The feature title_status contains 6 distinct values\n",
      "The feature transmission contains 2 distinct values\n",
      "The feature drive contains 3 distinct values\n",
      "The feature size contains 4 distinct values\n",
      "The feature type contains 12 distinct values\n",
      "The feature paint_color contains 12 distinct values\n",
      "The feature price contains 5092 distinct values\n"
     ]
    }
   ],
   "source": [
    "#Finding the categorical features and the amount of different values the have\n",
    "categorical_columns = [col for col, dtype in df.dtypes if dtype == 'string']\n",
    "\n",
    "#Finding the null values in the categorical features\n",
    "for col in categorical_columns:\n",
    "    distinct_count = df.select(col).distinct().count()\n",
    "    print(f\"The feature {col} contains {distinct_count} distinct values\")"
   ]
  },
  {
   "cell_type": "code",
   "execution_count": 9,
   "id": "a1f4fb19",
   "metadata": {},
   "outputs": [
    {
     "data": {
      "text/plain": [
       "[('year', 'string'),\n",
       " ('manufacturer', 'string'),\n",
       " ('condition', 'string'),\n",
       " ('cylinders', 'string'),\n",
       " ('fuel', 'string'),\n",
       " ('title_status', 'string'),\n",
       " ('transmission', 'string'),\n",
       " ('drive', 'string'),\n",
       " ('size', 'string'),\n",
       " ('type', 'string'),\n",
       " ('paint_color', 'string'),\n",
       " ('price', 'string')]"
      ]
     },
     "execution_count": 9,
     "metadata": {},
     "output_type": "execute_result"
    }
   ],
   "source": [
    "df.dtypes"
   ]
  },
  {
   "cell_type": "code",
   "execution_count": 10,
   "id": "cc161caf",
   "metadata": {},
   "outputs": [
    {
     "data": {
      "text/plain": [
       "[('year', 'int'),\n",
       " ('manufacturer', 'string'),\n",
       " ('condition', 'string'),\n",
       " ('cylinders', 'string'),\n",
       " ('fuel', 'string'),\n",
       " ('title_status', 'string'),\n",
       " ('transmission', 'string'),\n",
       " ('drive', 'string'),\n",
       " ('size', 'string'),\n",
       " ('type', 'string'),\n",
       " ('paint_color', 'string'),\n",
       " ('price', 'float')]"
      ]
     },
     "execution_count": 10,
     "metadata": {},
     "output_type": "execute_result"
    }
   ],
   "source": [
    "##Since the column \"price\" is considered a string,it needs to be changed to a float.Additionally,\"year\" will be converted to int\n",
    "from pyspark.sql.functions import col\n",
    "df=df.withColumn(\"price\",col(\"price\").cast(\"FLOAT\")).withColumn(\"year\",col(\"year\").cast(\"INT\"))\n",
    "df.dtypes"
   ]
  },
  {
   "cell_type": "code",
   "execution_count": 58,
   "id": "af5a7e26",
   "metadata": {},
   "outputs": [
    {
     "data": {
      "text/plain": [
       "['manufacturer',\n",
       " 'condition',\n",
       " 'cylinders',\n",
       " 'fuel',\n",
       " 'title_status',\n",
       " 'transmission',\n",
       " 'drive',\n",
       " 'size',\n",
       " 'type',\n",
       " 'paint_color']"
      ]
     },
     "execution_count": 58,
     "metadata": {},
     "output_type": "execute_result"
    }
   ],
   "source": [
    "categorical_columns = [col for col, dtype in df.dtypes if dtype == 'string']\n",
    "categorical_columns"
   ]
  },
  {
   "cell_type": "code",
   "execution_count": 12,
   "id": "6447f0aa",
   "metadata": {},
   "outputs": [
    {
     "name": "stdout",
     "output_type": "stream",
     "text": [
      "+----+------------+---------+-----------+------+------------+------------+-----+---------+-----------+-----------+-------+\n",
      "|year|manufacturer|condition|cylinders  |fuel  |title_status|transmission|drive|size     |type       |paint_color|price  |\n",
      "+----+------------+---------+-----------+------+------------+------------+-----+---------+-----------+-----------+-------+\n",
      "|2009|chevrolet   |good     |8 cylinders|gas   |clean       |automatic   |rwd  |full-size|SUV        |white      |9000.0 |\n",
      "|2007|pontiac     |excellent|4 cylinders|gas   |clean       |automatic   |fwd  |compact  |convertible|red        |7000.0 |\n",
      "|2012|chevrolet   |excellent|8 cylinders|diesel|clean       |automatic   |4wd  |full-size|pickup     |silver     |37000.0|\n",
      "|2004|toyota      |good     |4 cylinders|gas   |clean       |automatic   |fwd  |mid-size |sedan      |brown      |3795.0 |\n",
      "|2010|cadillac    |good     |8 cylinders|gas   |clean       |automatic   |fwd  |mid-size |SUV        |white      |9700.0 |\n",
      "+----+------------+---------+-----------+------+------------+------------+-----+---------+-----------+-----------+-------+\n",
      "only showing top 5 rows\n",
      "\n"
     ]
    }
   ],
   "source": [
    "#Filling the null values with the mode of each feature\n",
    "for col_name in categorical_columns:\n",
    "    mode_value = df.groupBy(col_name).count().orderBy(F.desc(\"count\")).first()[0]\n",
    "    df = df.withColumn(col_name, F.when(F.col(col_name).isNull(), mode_value).otherwise(F.col(col_name)))\n",
    "df.show(5,truncate=False)"
   ]
  },
  {
   "cell_type": "code",
   "execution_count": 59,
   "id": "b3d65522",
   "metadata": {},
   "outputs": [
    {
     "name": "stdout",
     "output_type": "stream",
     "text": [
      "+------------+---------------+\n",
      "|      Column|Null_Percentage|\n",
      "+------------+---------------+\n",
      "|        year|            0.0|\n",
      "|manufacturer|            0.0|\n",
      "|   condition|            0.0|\n",
      "|   cylinders|            0.0|\n",
      "|        fuel|            0.0|\n",
      "|title_status|            0.0|\n",
      "|transmission|            0.0|\n",
      "|       drive|            0.0|\n",
      "|        size|            0.0|\n",
      "|        type|            0.0|\n",
      "| paint_color|            0.0|\n",
      "|       price|            0.0|\n",
      "+------------+---------------+\n",
      "\n"
     ]
    }
   ],
   "source": [
    "##CHECKING IF THERE IS STILL NULL VALUES\n",
    "from pyspark.sql import functions as F\n",
    "\n",
    "# Calcular el número total de filas\n",
    "total_rows = df.count()\n",
    "\n",
    "# Crear una lista de expresiones para calcular el porcentaje de valores nulos\n",
    "null_percentage_expr = [\n",
    "    round((F.sum(F.col(c).isNull().cast(\"int\")) / total_rows * 100), 1).alias(c) \n",
    "    for c in df.columns\n",
    "]\n",
    "\n",
    "# Aplicar las expresiones y obtener los porcentajes de valores nulos\n",
    "null_percentages_df = df.agg(*null_percentage_expr)\n",
    "\n",
    "# Convertir el DataFrame en formato de dos columnas (Columna, Porcentaje de Nulos)\n",
    "null_percentages = null_percentages_df.select(F.explode(F.array([\n",
    "    F.struct(F.lit(c).alias(\"Column\"), F.col(c).alias(\"Null_Percentage\")) \n",
    "    for c in df.columns\n",
    "]))).select(\"col.*\")\n",
    "\n",
    "# Ordenar el resultado en orden descendente por el porcentaje de valores nulos\n",
    "null_percentages.orderBy(F.col(\"Null_Percentage\").desc()).show()"
   ]
  },
  {
   "cell_type": "code",
   "execution_count": 69,
   "id": "0e39e1bf",
   "metadata": {},
   "outputs": [
    {
     "data": {
      "text/plain": [
       "['year',\n",
       " 'manufacturer',\n",
       " 'condition',\n",
       " 'cylinders',\n",
       " 'fuel',\n",
       " 'title_status',\n",
       " 'transmission',\n",
       " 'drive',\n",
       " 'size',\n",
       " 'type',\n",
       " 'paint_color',\n",
       " 'price']"
      ]
     },
     "execution_count": 69,
     "metadata": {},
     "output_type": "execute_result"
    }
   ],
   "source": [
    "df.columns"
   ]
  },
  {
   "cell_type": "code",
   "execution_count": 15,
   "id": "882163e5",
   "metadata": {},
   "outputs": [
    {
     "data": {
      "image/png": "[encoded data removed]",
      "text/plain": [
       "<Figure size 640x480 with 1 Axes>"
      ]
     },
     "metadata": {},
     "output_type": "display_data"
    }
   ],
   "source": [
    "import pandas as pd\n",
    "import matplotlib.pyplot as plt\n",
    "import seaborn as sns\n",
    "\n",
    "# Converting the data to a pandas dataframe\n",
    "pandas_df = df.toPandas()\n",
    "\n",
    "# Create the scatter plot\n",
    "sns.scatterplot(data=pandas_df, x=\"year\", y=\"price\", color=\"blue\")\n",
    "plt.axvline(1945)\n",
    "plt.axhline(5000, color=\"red\")\n",
    "plt.axhline(40000, color=\"red\")\n",
    "plt.title(\"Year vs Price\")\n",
    "plt.show()"
   ]
  },
  {
   "cell_type": "code",
   "execution_count": 61,
   "id": "90fd7016",
   "metadata": {},
   "outputs": [
    {
     "name": "stdout",
     "output_type": "stream",
     "text": [
      "+----+------------+---------+-----------+------+------------+------------+-----+---------+-----------+-----------+-------+\n",
      "|year|manufacturer|condition|cylinders  |fuel  |title_status|transmission|drive|size     |type       |paint_color|price  |\n",
      "+----+------------+---------+-----------+------+------------+------------+-----+---------+-----------+-----------+-------+\n",
      "|2009|chevrolet   |good     |8 cylinders|gas   |clean       |automatic   |rwd  |full-size|SUV        |white      |9000.0 |\n",
      "|2007|pontiac     |excellent|4 cylinders|gas   |clean       |automatic   |fwd  |compact  |convertible|red        |7000.0 |\n",
      "|2012|chevrolet   |excellent|8 cylinders|diesel|clean       |automatic   |4wd  |full-size|pickup     |silver     |37000.0|\n",
      "|2010|cadillac    |good     |8 cylinders|gas   |clean       |automatic   |fwd  |mid-size |SUV        |white      |9700.0 |\n",
      "|2011|gmc         |excellent|6 cylinders|gas   |clean       |automatic   |fwd  |mid-size |SUV        |white      |11995.0|\n",
      "+----+------------+---------+-----------+------+------------+------------+-----+---------+-----------+-----------+-------+\n",
      "only showing top 5 rows\n",
      "\n"
     ]
    }
   ],
   "source": [
    "#The model will work better with \"prices\" between 5000 and 40000 and a \"year\" greater than 1945\n",
    "\n",
    "# Filter the DataFrame based on price and year conditions\n",
    "df = df.filter((F.col(\"price\").between(5000, 40000)) & (F.col(\"year\") > 1945))\n",
    "\n",
    "# Show the first few rows of the filtered DataFrame\n",
    "\n",
    "df.show(5,truncate=False)"
   ]
  },
  {
   "cell_type": "markdown",
   "id": "ee060bf9",
   "metadata": {},
   "source": [
    "## CREATING THE MODEL"
   ]
  },
  {
   "cell_type": "code",
   "execution_count": 70,
   "id": "dcbd6397",
   "metadata": {},
   "outputs": [
    {
     "data": {
      "text/plain": [
       "['manufacturer',\n",
       " 'condition',\n",
       " 'cylinders',\n",
       " 'fuel',\n",
       " 'title_status',\n",
       " 'transmission',\n",
       " 'drive',\n",
       " 'size',\n",
       " 'type',\n",
       " 'paint_color']"
      ]
     },
     "execution_count": 70,
     "metadata": {},
     "output_type": "execute_result"
    }
   ],
   "source": [
    "categorical_columns"
   ]
  },
  {
   "cell_type": "code",
   "execution_count": 62,
   "id": "576b08eb",
   "metadata": {},
   "outputs": [],
   "source": [
    "##Convert categorical columns to numerical\n",
    "indexers = [StringIndexer(inputCol=col, outputCol=col+\"_index\") for col in categorical_columns]\n",
    "encoders = [OneHotEncoder(inputCol=col+\"_index\", outputCol=col+\"_encoded\") for col in categorical_columns]\n",
    "\n",
    "# Creating a feature vector\n",
    "feature_columns = ['year'] + [col+\"_encoded\" for col in categorical_columns]\n",
    "assembler = VectorAssembler(inputCols=feature_columns, outputCol=\"features\")\n",
    "\n",
    "# Creating a  pipeline\n",
    "pipeline = Pipeline(stages=indexers + encoders + [assembler])"
   ]
  },
  {
   "cell_type": "code",
   "execution_count": 63,
   "id": "7662ad4c",
   "metadata": {},
   "outputs": [],
   "source": [
    "# Applying the pipeline\n",
    "data_prepared = pipeline.fit(df).transform(df)\n",
    "\n",
    "#Splitting the data in train and test\n",
    "train_data, test_data = data_prepared.randomSplit([0.8, 0.2], seed=42)"
   ]
  },
  {
   "cell_type": "code",
   "execution_count": 23,
   "id": "909cb612",
   "metadata": {},
   "outputs": [],
   "source": [
    "# Creating the Gradient Boosting Regressor model\n",
    "gbt = GBTRegressor(featuresCol=\"features\", labelCol=\"price\", maxIter=100)\n",
    "\n",
    "# Training the model\n",
    "model = gbt.fit(train_data)"
   ]
  },
  {
   "cell_type": "code",
   "execution_count": 48,
   "id": "9a2c2acd",
   "metadata": {},
   "outputs": [
    {
     "name": "stdout",
     "output_type": "stream",
     "text": [
      "R-squared (R2) on test data = 0.7479726187521283\n",
      "Root Mean Squared Error (RMSE) on test data = 4003.307168218714\n",
      "Mean Absolute Error (MAE) on test data = 2840.5535881319624\n"
     ]
    }
   ],
   "source": [
    "# Making predictions\n",
    "predictions = model.transform(test_data)\n",
    "\n",
    "# Evaluating the model for R2, RMSE, and MAE\n",
    "evaluator_r2 = RegressionEvaluator(labelCol=\"price\", predictionCol=\"prediction\", metricName=\"r2\")\n",
    "r2 = evaluator_r2.evaluate(predictions)\n",
    "print(f\"R-squared (R2) on test data = {r2}\")\n",
    "\n",
    "evaluator_rmse = RegressionEvaluator(labelCol=\"price\", predictionCol=\"prediction\", metricName=\"rmse\")\n",
    "rmse = evaluator_rmse.evaluate(predictions)\n",
    "print(f\"Root Mean Squared Error (RMSE) on test data = {rmse}\")\n",
    "\n",
    "evaluator_mae = RegressionEvaluator(labelCol=\"price\", predictionCol=\"prediction\", metricName=\"mae\")\n",
    "mae = evaluator_mae.evaluate(predictions)\n",
    "print(f\"Mean Absolute Error (MAE) on test data = {mae}\")"
   ]
  },
  {
   "cell_type": "code",
   "execution_count": 86,
   "id": "8cddd77a",
   "metadata": {},
   "outputs": [
    {
     "name": "stdout",
     "output_type": "stream",
     "text": [
      "+----------+----------+\n",
      "|REAL PRICE|PREDICTION|\n",
      "+----------+----------+\n",
      "|    9650.0|   11364.0|\n",
      "|   15900.0|   14015.0|\n",
      "|   16000.0|    8366.0|\n",
      "|    9700.0|   12454.0|\n",
      "|   19500.0|   22351.0|\n",
      "|   18000.0|   14617.0|\n",
      "|   23500.0|   19382.0|\n",
      "|   38000.0|   16020.0|\n",
      "|   25000.0|   15461.0|\n",
      "|   18500.0|   13433.0|\n",
      "|   34000.0|   15692.0|\n",
      "|    5500.0|    6928.0|\n",
      "|   24995.0|   15889.0|\n",
      "|    6750.0|   13026.0|\n",
      "|    8000.0|    9795.0|\n",
      "|   16500.0|   13026.0|\n",
      "|   16000.0|   21537.0|\n",
      "|    5500.0|    9708.0|\n",
      "|    5500.0|    9051.0|\n",
      "|   25250.0|   18417.0|\n",
      "+----------+----------+\n",
      "only showing top 20 rows\n",
      "\n"
     ]
    }
   ],
   "source": [
    "###COMPARING THE ORIGINAL DATA WITH THE DATA OBTAINED FROM DE ML MODEL\n",
    "predictions.select(col(\"price\").alias(\"REAL PRICE\"), round(col(\"prediction\")).alias(\"PREDICTION\")).show()"
   ]
  },
  {
   "cell_type": "code",
   "execution_count": 88,
   "id": "3e173d6d",
   "metadata": {},
   "outputs": [
    {
     "name": "stdout",
     "output_type": "stream",
     "text": [
      "rmse: 3844.564717355897\n",
      "mse: 14780677.865937827\n",
      "mae: 2644.756516648394\n",
      "r2: 0.767563541148599\n"
     ]
    }
   ],
   "source": [
    "##HYPERPARAMETER TUNING\n",
    "from pyspark.ml.tuning import ParamGridBuilder, CrossValidator\n",
    "from pyspark.ml.evaluation import RegressionEvaluator\n",
    "\n",
    "# Createa parameter grid for hyperparameter tuning\n",
    "paramGrid = ParamGridBuilder() \\\n",
    "    .addGrid(gbt.maxDepth, [9, 10]) \\\n",
    "     .addGrid(gbt.maxIter, [99, 100]) \\\n",
    "    .build()\n",
    "\n",
    "# Create a cross-validator\n",
    "cv = CrossValidator(estimator=gbt,\n",
    "                    estimatorParamMaps=paramGrid,\n",
    "                    evaluator=RegressionEvaluator(labelCol=\"price\", metricName=\"rmse\"),\n",
    "                    numFolds=3)\n",
    "\n",
    "# Fit the model using cross-validation\n",
    "cv_model = cv.fit(train_data)\n",
    "\n",
    "# Make predictions on the test data\n",
    "best_predictions = cv_model.transform(test_data)\n",
    "\n",
    "# Evaluate the best model using multiple metrics\n",
    "evaluator = RegressionEvaluator(labelCol=\"price\")\n",
    "metrics = [\"rmse\", \"mse\", \"mae\", \"r2\"]\n",
    "for metric in metrics:\n",
    "    result = evaluator.evaluate(best_predictions, {evaluator.metricName: metric})\n",
    "    print(f\"{metric}: {result}\")"
   ]
  },
  {
   "cell_type": "code",
   "execution_count": 90,
   "id": "7583d179",
   "metadata": {},
   "outputs": [
    {
     "name": "stdout",
     "output_type": "stream",
     "text": [
      "+----------+----------+\n",
      "|REAL PRICE|PREDICTION|\n",
      "+----------+----------+\n",
      "|    9650.0|   14643.0|\n",
      "|   15900.0|   12508.0|\n",
      "|   16000.0|   12528.0|\n",
      "|    9700.0|    9822.0|\n",
      "|   19500.0|   23298.0|\n",
      "|   18000.0|   14243.0|\n",
      "|   23500.0|   20371.0|\n",
      "|   38000.0|   18851.0|\n",
      "|   25000.0|   12654.0|\n",
      "|   18500.0|   12126.0|\n",
      "|   34000.0|   20304.0|\n",
      "|    5500.0|   10068.0|\n",
      "|   24995.0|   15990.0|\n",
      "|    6750.0|    9590.0|\n",
      "|    8000.0|    9621.0|\n",
      "|   16500.0|    9590.0|\n",
      "|   16000.0|   14130.0|\n",
      "|    5500.0|    9885.0|\n",
      "|    5500.0|   11389.0|\n",
      "|   25250.0|   19233.0|\n",
      "+----------+----------+\n",
      "only showing top 20 rows\n",
      "\n"
     ]
    }
   ],
   "source": [
    "###COMPARING THE ORIGINAL DATA WITH THE DATA OBTAINED FROM DE ML MODEL HYPERTUNED\n",
    "best_predictions.select(col(\"price\").alias(\"REAL PRICE\"), round(col(\"prediction\")).alias(\"PREDICTION\")).show()"
   ]
  }
 ],
 "metadata": {
  "kernelspec": {
   "display_name": "Python 3 (ipykernel)",
   "language": "python",
   "name": "python3"
  },
  "language_info": {
   "codemirror_mode": {
    "name": "ipython",
    "version": 3
   },
   "file_extension": ".py",
   "mimetype": "text/x-python",
   "name": "python",
   "nbconvert_exporter": "python",
   "pygments_lexer": "ipython3",
   "version": "3.9.13"
  }
 },
 "nbformat": 4,
 "nbformat_minor": 5
}
